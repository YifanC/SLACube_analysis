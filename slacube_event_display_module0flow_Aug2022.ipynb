{
 "cells": [
  {
   "cell_type": "code",
   "execution_count": 1,
   "id": "cd03b7c6-a664-4ed7-a9e8-356f2fc461e9",
   "metadata": {},
   "outputs": [
    {
     "name": "stderr",
     "output_type": "stream",
     "text": [
      "WARNING:root:Running without mpi4py because No module named 'mpi4py'\n"
     ]
    }
   ],
   "source": [
    "import sys, os\n",
    "\n",
    "from h5flow.data import dereference\n",
    "\n",
    "layout_file = 'geo/layout-2.4.0.yaml'\n",
    "\n",
    "vdrift = 1.5136504594138773 # mm/us for 0.5kV/cm"
   ]
  },
  {
   "cell_type": "markdown",
   "id": "cba7d37b-875d-4dc0-a474-9829f73c409f",
   "metadata": {},
   "source": [
    "## Plotting Functions"
   ]
  },
  {
   "cell_type": "code",
   "execution_count": 2,
   "id": "8e271cbe-b1bc-4fce-bb85-aeace49211f5",
   "metadata": {
    "tags": []
   },
   "outputs": [],
   "source": [
    "from collections import defaultdict\n",
    "import yaml\n",
    "import numpy as np\n",
    "\n",
    "import h5py\n",
    "import numpy as np\n",
    "import pandas as pd\n",
    "import matplotlib.pyplot as plt\n",
    "from itertools import cycle\n",
    "from collections import defaultdict\n",
    "\n",
    "import plotly.graph_objects as go\n",
    "import plotly.express as px\n",
    "\n",
    "import pandas as pd\n",
    "\n",
    "def _rotate_pixel(pixel_pos, tile_orientation):\n",
    "    return pixel_pos[0]*tile_orientation[2], pixel_pos[1]*tile_orientation[1]\n",
    "\n",
    "def load_tile_geometry(fpath):\n",
    "    '''\n",
    "    Build a dictionary for position lookup from tile layout.\n",
    " \n",
    "    Arguments\n",
    "    ---------\n",
    "    fpath : str\n",
    "        file path to the tile layout\n",
    "    \n",
    "    Returns\n",
    "    -------\n",
    "    geometry : dict\n",
    "        dictionary of tile position in mm\n",
    "        `geometry[(chip, channel)] -> (x,y,z)`   \n",
    "    '''\n",
    "    with open(fpath, 'r') as f:\n",
    "        geometry_yaml = yaml.load(f, Loader=yaml.FullLoader)\n",
    "          \n",
    "    chips = geometry_yaml[\"chips\"]\n",
    "    pixels = geometry_yaml[\"pixels\"]\n",
    "\n",
    "    geometry = defaultdict(lambda: (None, None, None))\n",
    "    \n",
    "    for chip, channels in chips:\n",
    "        for channel_id, channel in enumerate(channels):\n",
    "            if channel is not None:\n",
    "                x = pixels[channel][1]\n",
    "                y = pixels[channel][2]\n",
    "                z = 0\n",
    "                geometry[(chip, channel_id)] = x, y, z\n",
    "\n",
    "    return dict(geometry)\n",
    "\n",
    "def packet_to_eventid(assn, tracks):\n",
    "    '''\n",
    "    Assoiciate packet to eventID.\n",
    "    \n",
    "    Arguments\n",
    "    ---------\n",
    "    assn : array_like\n",
    "        packet to track association (`mc_packets_assn`) from `larnd-sim` output\n",
    "        \n",
    "    tracks: array_like\n",
    "        list of track segments\n",
    "        \n",
    "    Returns\n",
    "    -------\n",
    "    event_ids: ndarray (N,)\n",
    "        array of eventID.\n",
    "        `len(event_ids)` equals to `len(packets)`\n",
    "    '''\n",
    "    track_ids = assn['track_ids'].max(axis=-1)\n",
    "    \n",
    "    event_ids = np.full_like(track_ids, -1, dtype=int)\n",
    "    mask = track_ids != -1\n",
    "    event_ids[mask] = tracks['eventID'][track_ids[mask]]\n",
    "    \n",
    "    return event_ids\n",
    "\n",
    "def draw_anode_cathode_planes(geom, **kwargs):\n",
    "    '''\n",
    "    Draw two anode planes for module0.\n",
    "    \n",
    "    TODO(2021-11-09 kvt) for other detector geometry?\n",
    "    \n",
    "    Arguments\n",
    "    ---------\n",
    "    geom : dict\n",
    "        tile geometry from `load_tile_geometry()`\n",
    "    \n",
    "    **kwargs :\n",
    "        additional keyword arguments passed to `Surface`\n",
    "        \n",
    "    Returns\n",
    "    -------\n",
    "    traces: list(Scatter3d)\n",
    "        plolty Surface objects\n",
    "    '''\n",
    "\n",
    "    pos = np.array(list(geom.values())) / 10.\n",
    "    # print(\"pos, \", pos[:, 0])\n",
    "    # # mask = pos[:,2] > 0\n",
    "    traces = []\n",
    "    \n",
    "    for i in range(2):\n",
    "        x = np.array([pos[:, 0].min(), pos[:, 0].max()])\n",
    "        y = np.array([pos[:, 1].min(), pos[:, 1].max()])\n",
    "        if i == 0:\n",
    "            z = np.full((2,2), 0)\n",
    "        elif i == 1:\n",
    "            z = np.full((2,2), 30)\n",
    "\n",
    "        traces.append(go.Surface(x=x, y=y, z=z, **kwargs))\n",
    "    \n",
    "    return traces\n",
    "\n",
    "\n",
    "def plot_hit_raw_reco3d(hits, geom, vdrift, **kwargs):\n",
    "    \n",
    "    n_hits = len(hits)\n",
    "    x_reco = np.empty(n_hits, dtype=float)\n",
    "    y_reco = np.empty_like(x_reco)\n",
    "    z_reco = np.empty_like(x_reco)\n",
    "    q_reco = np.empty_like(x_reco)\n",
    "    \n",
    "    t0 = min(hits['ts'])\n",
    "\n",
    "    for i, hit in enumerate(hits):\n",
    "\n",
    "        key = (hit['chipid'], hit['channelid'])\n",
    "\n",
    "        x_reco[i], y_reco[i] = geom.get(key)[:2]\n",
    "        \n",
    "        t = hit['ts'] - t0\n",
    "        \n",
    "        z_reco[i] = vdrift * t * 0.1\n",
    "        q_reco[i] = 1     \n",
    "     \n",
    "    # to cm\n",
    "    x_reco /= 10\n",
    "    y_reco /= 10\n",
    "               \n",
    "    trace = go.Scatter3d(\n",
    "        x=x_reco, y=y_reco, z=z_reco,\n",
    "        marker_color=q_reco,\n",
    "        **kwargs\n",
    "    )\n",
    "    \n",
    "    return trace\n",
    "\n",
    "def plot_hits_reco3d(hits, vdrift, t0, **kwargs):\n",
    "  \n",
    "#     t0 = np.min(hits['ts'])    \n",
    "     \n",
    "    # to cm\n",
    "    x_reco = hits['px'] / 10\n",
    "    y_reco = hits['py'] / 10\n",
    "    # the first / 10 converts time tick to us (at 10MHz each tick 0.1us)\n",
    "    # the second / 10 converts mm to cm\n",
    "    z_reco = (hits['ts'] - t0) / 10 * vdrift / 10 \n",
    "    q_reco = hits['q']\n",
    "    \n",
    "    trace = go.Scatter3d(\n",
    "        x=x_reco.flatten(), y=y_reco.flatten(), z=z_reco.flatten(),\n",
    "        marker_color=q_reco.flatten(),\n",
    "        **kwargs\n",
    "    )\n",
    "    \n",
    "    return trace\n",
    "\n",
    "def plot_track_reco3d(track, **kwargs):\n",
    "     \n",
    "    # to cm\n",
    "    x_reco = track['trajectory'][0][:, 0] /10\n",
    "    y_reco = track['trajectory'][0][:, 1] /10\n",
    "    z_reco = track['trajectory'][0][:, 2] /10 \n",
    "\n",
    "    dqdx = []\n",
    "\n",
    "    for i in range(len(track['dq'][0])):\n",
    "        this_dx = track['dx'][0][i] \n",
    "        dx = np.sqrt(this_dx[0] * this_dx[0] + this_dx[1] * this_dx[1] + this_dx[2] * this_dx[2]) / 10 # mm to cm\n",
    "        dq = track['dq'][0][i]\n",
    "        if dx != 0:\n",
    "            dqdx.append(dq/dx)\n",
    "        else:\n",
    "            dqdx.append(0)\n",
    "        \n",
    "    trace = go.Scatter3d(\n",
    "        x=x_reco.flatten(), y=y_reco.flatten(), z=z_reco.flatten(),\n",
    "        line_color=dqdx,\n",
    "        **kwargs\n",
    "    )\n",
    "    \n",
    "    return trace\n",
    "\n",
    "def plot_track_ends(track_start, track_end, **kwargs):\n",
    "    '''\n",
    "    Plot tracks. Segments are jointed by straight line.\n",
    "    \n",
    "    Arguments\n",
    "    ---------\n",
    "    tracks : array_like\n",
    "        A list of track segements.\n",
    "        \n",
    "    **kwargs:\n",
    "        additional keyword arguments passed to `Scatter3d``\n",
    "        \n",
    "    Returns\n",
    "    -------\n",
    "    trace: Scatter3d\n",
    "        plolty trace object\n",
    "    '''\n",
    "    track_start = track_start[0]\n",
    "    track_end = track_end[0]\n",
    "    \n",
    "    x = [track_start[0]/10, track_end[0]/10]\n",
    "    y = [track_start[1]/10, track_end[1]/10]\n",
    "    z = [track_start[2]/10, track_end[2]/10]\n",
    "    \n",
    "    trace = go.Scatter3d(x=x, y=y, z=z, **kwargs)\n",
    "    \n",
    "    return trace"
   ]
  },
  {
   "cell_type": "code",
   "execution_count": 21,
   "id": "ae2681ee-8b70-467b-9ec7-ebc04c495fda",
   "metadata": {},
   "outputs": [
    {
     "name": "stdout",
     "output_type": "stream",
     "text": [
      "charge\n",
      "combined\n",
      "geometry_info\n",
      "lar_info\n",
      "run_info\n"
     ]
    }
   ],
   "source": [
    "import h5py\n",
    "import matplotlib.pyplot as plt\n",
    "import glob\n",
    "import itertools\n",
    "\n",
    "geom = load_tile_geometry(layout_file)\n",
    "path = \"/sdf/group/neutrino/larpix/evd/selftrigger/2022-07-30/\"\n",
    "fname = \"selftrigger_2022_07_30_23_57_23_PDT_evd.h5\"\n",
    "\n",
    "f = h5py.File(path + fname, 'r')\n",
    "for key in f.keys():\n",
    "    print(key)"
   ]
  },
  {
   "cell_type": "code",
   "execution_count": 22,
   "id": "66561344-83f0-41be-b47a-404e16375586",
   "metadata": {},
   "outputs": [
    {
     "name": "stdout",
     "output_type": "stream",
     "text": [
      "[  0   1   2   3   4   5   6   7   8   9  10  11  12  13  14  15  16  17\n",
      "  18  19  20  21  22  23  24  25  26  27  28  29  30  31  32  33  34  35\n",
      "  36  37  38  39  40  41  42  43  44  45  46  47  48  49  50  51  52  53\n",
      "  54  55  56  57  58  59  60  61  62  63  64  65  66  67  68  69  70  71\n",
      "  72  73  74  75  76  77  78  79  80  81  82  83  84  85  86  87  88  89\n",
      "  90  91  92  93  94  95  96  97  98  99 100 101 102 103 104 105 106 107\n",
      " 108 109 110 111 112 113 114 115 116 117 118 119 120 121 122 123 124 125\n",
      " 126 127 128 129 130 131 132 133 134 135 136 137 138 139 140 141 142 143\n",
      " 144 145 146 147 148 149 150 151 152 153 154 155 156 157 158 159 160 161\n",
      " 162 163 164 165 166 167 168 169 170 171 172 173 174 175 176 177 178 179\n",
      " 180 181 182 183 184 185 186 187 188 189 190 191 192 193 194 195 196 197\n",
      " 198 199 200 201 202 203 204 205 206 207 208 209 210 211 212 213 214 215\n",
      " 216 217 218 219 220 221 222 223 224 225 226 227 228 229 230 231 232 233\n",
      " 234 235 236 237 238 239 240 241 242 243 244 245 246 247 248 249 250 251\n",
      " 252 253]\n"
     ]
    }
   ],
   "source": [
    "events = f['charge/events/data']\n",
    "print(np.unique(events['id']))"
   ]
  },
  {
   "cell_type": "code",
   "execution_count": 32,
   "id": "0242ac65-3b6e-473e-8502-db083d127ea5",
   "metadata": {},
   "outputs": [
    {
     "name": "stdout",
     "output_type": "stream",
     "text": [
      "trk_pool [132]\n",
      "132\n",
      "dq/dx:  4699.561872853795\n",
      "dq/dx:  0\n",
      "dq/dx:  0\n",
      "dq/dx:  0\n",
      "dq/dx:  0\n",
      "dq/dx:  0\n",
      "dq/dx:  0\n",
      "[[-90.89700317382812 -98.0099410413086 6.842098039591124]]\n",
      "[[-82.41271837718037 -100.62383039797147 1.323203657705704]]\n"
     ]
    },
    {
     "data": {
      "application/vnd.plotly.v1+json": {
       "config": {
        "plotlyServerURL": "https://plot.ly"
       },
       "data": [
        {
         "colorscale": [
          [
           0,
           "rgb(255,255,255)"
          ],
          [
           0.125,
           "rgb(240,240,240)"
          ],
          [
           0.25,
           "rgb(217,217,217)"
          ],
          [
           0.375,
           "rgb(189,189,189)"
          ],
          [
           0.5,
           "rgb(150,150,150)"
          ],
          [
           0.625,
           "rgb(115,115,115)"
          ],
          [
           0.75,
           "rgb(82,82,82)"
          ],
          [
           0.875,
           "rgb(37,37,37)"
          ],
          [
           1,
           "rgb(0, 0, 0)"
          ]
         ],
         "opacity": 0.3,
         "showscale": false,
         "type": "surface",
         "x": [
          -15.297299999999998,
          15.297299999999996
         ],
         "y": [
          -15.297299999999998,
          15.297299999999996
         ],
         "z": [
          [
           0,
           0
          ],
          [
           0,
           0
          ]
         ]
        },
        {
         "colorscale": [
          [
           0,
           "rgb(255,255,255)"
          ],
          [
           0.125,
           "rgb(240,240,240)"
          ],
          [
           0.25,
           "rgb(217,217,217)"
          ],
          [
           0.375,
           "rgb(189,189,189)"
          ],
          [
           0.5,
           "rgb(150,150,150)"
          ],
          [
           0.625,
           "rgb(115,115,115)"
          ],
          [
           0.75,
           "rgb(82,82,82)"
          ],
          [
           0.875,
           "rgb(37,37,37)"
          ],
          [
           1,
           "rgb(0, 0, 0)"
          ]
         ],
         "opacity": 0.3,
         "showscale": false,
         "type": "surface",
         "x": [
          -15.297299999999998,
          15.297299999999996
         ],
         "y": [
          -15.297299999999998,
          15.297299999999996
         ],
         "z": [
          [
           30,
           30
          ],
          [
           30,
           30
          ]
         ]
        },
        {
         "legendgroup": "Hits",
         "marker": {
          "color": [
           59.47998046875,
           107.681300951087,
           35.13427734375,
           49.39835258152175,
           64.86254059866565,
           28.88802939967104,
           34.69068818933829,
           122.96280570652175,
           128.95751953125,
           211.99144684866565,
           141.21826171875
          ],
          "size": 3
         },
         "mode": "markers",
         "name": "Hits",
         "showlegend": true,
         "type": "scatter3d",
         "x": [
          -9.089700317382812,
          -12.193499755859374,
          -8.646299743652344,
          -8.202899932861328,
          -8.646299743652344,
          -8.646299743652344,
          -9.089700317382812,
          -8.202899932861328,
          -9.089700317382812,
          -8.646299743652344,
          -9.089700317382812
         ],
         "y": [
          -9.976499938964844,
          -8.646299743652344,
          -10.41989974975586,
          -9.976499938964844,
          -9.976499938964844,
          -9.533100128173828,
          -9.533100128173828,
          -9.976499938964844,
          -9.976499938964844,
          -9.976499938964844,
          -9.976499938964844
         ],
         "z": [
          0,
          0.030272888038930867,
          0.0454093320583963,
          0.060545776077861733,
          0.0756822200832302,
          0.1513644401664604,
          0.33300176837185164,
          0.484366208538312,
          0.4995026525577774,
          0.4995026525577774,
          0.9233230850182277
         ]
        },
        {
         "legendgroup": "Hits associated to the track",
         "marker": {
          "color": [
           59.47998046875,
           35.13427734375,
           49.39835258152175,
           64.86254059866565,
           28.88802939967104,
           34.69068818933829,
           122.96280570652175,
           128.95751953125,
           211.99144684866565,
           141.21826171875
          ],
          "size": 4
         },
         "mode": "markers",
         "name": "Hits associated to the track",
         "showlegend": true,
         "type": "scatter3d",
         "x": [
          -9.089700317382812,
          -8.646299743652344,
          -8.202899932861328,
          -8.646299743652344,
          -8.646299743652344,
          -9.089700317382812,
          -8.202899932861328,
          -9.089700317382812,
          -8.646299743652344,
          -9.089700317382812
         ],
         "y": [
          -9.976499938964844,
          -10.41989974975586,
          -9.976499938964844,
          -9.976499938964844,
          -9.533100128173828,
          -9.533100128173828,
          -9.976499938964844,
          -9.976499938964844,
          -9.976499938964844,
          -9.976499938964844
         ],
         "z": [
          0,
          0.0454093320583963,
          0.060545776077861733,
          0.0756822200832302,
          0.1513644401664604,
          0.33300176837185164,
          0.484366208538312,
          0.4995026525577774,
          0.4995026525577774,
          0.9233230850182277
         ]
        },
        {
         "legendgroup": "Tracks",
         "line": {
          "color": [
           4699.561872853795,
           0,
           0,
           0,
           0,
           0,
           0
          ],
          "width": 5
         },
         "marker": {
          "size": 3
         },
         "name": "Tracks",
         "showlegend": true,
         "type": "scatter3d",
         "x": [
          -8.781259164131027,
          -8.656458850250797,
          -8.656458850250797,
          -8.656458850250797,
          -8.656458850250797,
          -8.656458850250797,
          -8.656458850250797,
          -8.656458850250797
         ],
         "y": [
          -9.94095268958991,
          -9.980447044596556,
          -9.980447044596556,
          -9.980447044596556,
          -9.980447044596556,
          -9.980447044596556,
          -9.980447044596556,
          -9.980447044596556
         ],
         "z": [
          0.5805334249783213,
          0.4473571165035368,
          0.4473571165035368,
          0.4473571165035368,
          0.4473571165035368,
          0.4473571165035368,
          0.4473571165035368,
          0.4473571165035368
         ]
        },
        {
         "legendgroup": "Track_ends",
         "line": {
          "width": 5
         },
         "marker": {
          "size": 3
         },
         "name": "Tracks_ends",
         "showlegend": true,
         "type": "scatter3d",
         "x": [
          -9.089700317382812,
          -8.241271837718037
         ],
         "y": [
          -9.80099410413086,
          -10.062383039797147
         ],
         "z": [
          0.6842098039591125,
          0.1323203657705704
         ]
        }
       ],
       "layout": {
        "autosize": true,
        "scene": {
         "aspectmode": "auto",
         "aspectratio": {
          "x": 1.0065634929760854,
          "y": 1.0065634929760854,
          "z": 0.9870011305682236
         },
         "camera": {
          "center": {
           "x": 0,
           "y": 0,
           "z": 0
          },
          "eye": {
           "x": 0.5650483483164336,
           "y": 0.5650483483164331,
           "z": 0.5650483483164332
          },
          "projection": {
           "type": "perspective"
          },
          "up": {
           "x": 0.0014371337256120509,
           "y": -0.0014350713319487955,
           "z": 0.9999979376063367
          }
         },
         "xaxis": {
          "nticks": 4,
          "range": [
           -15.297299999999998,
           15.297299999999996
          ],
          "type": "linear"
         },
         "yaxis": {
          "nticks": 4,
          "range": [
           -15.297299999999998,
           15.297299999999996
          ],
          "type": "linear"
         }
        },
        "template": {
         "data": {
          "bar": [
           {
            "error_x": {
             "color": "#2a3f5f"
            },
            "error_y": {
             "color": "#2a3f5f"
            },
            "marker": {
             "line": {
              "color": "#E5ECF6",
              "width": 0.5
             }
            },
            "type": "bar"
           }
          ],
          "barpolar": [
           {
            "marker": {
             "line": {
              "color": "#E5ECF6",
              "width": 0.5
             }
            },
            "type": "barpolar"
           }
          ],
          "carpet": [
           {
            "aaxis": {
             "endlinecolor": "#2a3f5f",
             "gridcolor": "white",
             "linecolor": "white",
             "minorgridcolor": "white",
             "startlinecolor": "#2a3f5f"
            },
            "baxis": {
             "endlinecolor": "#2a3f5f",
             "gridcolor": "white",
             "linecolor": "white",
             "minorgridcolor": "white",
             "startlinecolor": "#2a3f5f"
            },
            "type": "carpet"
           }
          ],
          "choropleth": [
           {
            "colorbar": {
             "outlinewidth": 0,
             "ticks": ""
            },
            "type": "choropleth"
           }
          ],
          "contour": [
           {
            "colorbar": {
             "outlinewidth": 0,
             "ticks": ""
            },
            "colorscale": [
             [
              0,
              "#0d0887"
             ],
             [
              0.1111111111111111,
              "#46039f"
             ],
             [
              0.2222222222222222,
              "#7201a8"
             ],
             [
              0.3333333333333333,
              "#9c179e"
             ],
             [
              0.4444444444444444,
              "#bd3786"
             ],
             [
              0.5555555555555556,
              "#d8576b"
             ],
             [
              0.6666666666666666,
              "#ed7953"
             ],
             [
              0.7777777777777778,
              "#fb9f3a"
             ],
             [
              0.8888888888888888,
              "#fdca26"
             ],
             [
              1,
              "#f0f921"
             ]
            ],
            "type": "contour"
           }
          ],
          "contourcarpet": [
           {
            "colorbar": {
             "outlinewidth": 0,
             "ticks": ""
            },
            "type": "contourcarpet"
           }
          ],
          "heatmap": [
           {
            "colorbar": {
             "outlinewidth": 0,
             "ticks": ""
            },
            "colorscale": [
             [
              0,
              "#0d0887"
             ],
             [
              0.1111111111111111,
              "#46039f"
             ],
             [
              0.2222222222222222,
              "#7201a8"
             ],
             [
              0.3333333333333333,
              "#9c179e"
             ],
             [
              0.4444444444444444,
              "#bd3786"
             ],
             [
              0.5555555555555556,
              "#d8576b"
             ],
             [
              0.6666666666666666,
              "#ed7953"
             ],
             [
              0.7777777777777778,
              "#fb9f3a"
             ],
             [
              0.8888888888888888,
              "#fdca26"
             ],
             [
              1,
              "#f0f921"
             ]
            ],
            "type": "heatmap"
           }
          ],
          "heatmapgl": [
           {
            "colorbar": {
             "outlinewidth": 0,
             "ticks": ""
            },
            "colorscale": [
             [
              0,
              "#0d0887"
             ],
             [
              0.1111111111111111,
              "#46039f"
             ],
             [
              0.2222222222222222,
              "#7201a8"
             ],
             [
              0.3333333333333333,
              "#9c179e"
             ],
             [
              0.4444444444444444,
              "#bd3786"
             ],
             [
              0.5555555555555556,
              "#d8576b"
             ],
             [
              0.6666666666666666,
              "#ed7953"
             ],
             [
              0.7777777777777778,
              "#fb9f3a"
             ],
             [
              0.8888888888888888,
              "#fdca26"
             ],
             [
              1,
              "#f0f921"
             ]
            ],
            "type": "heatmapgl"
           }
          ],
          "histogram": [
           {
            "marker": {
             "colorbar": {
              "outlinewidth": 0,
              "ticks": ""
             }
            },
            "type": "histogram"
           }
          ],
          "histogram2d": [
           {
            "colorbar": {
             "outlinewidth": 0,
             "ticks": ""
            },
            "colorscale": [
             [
              0,
              "#0d0887"
             ],
             [
              0.1111111111111111,
              "#46039f"
             ],
             [
              0.2222222222222222,
              "#7201a8"
             ],
             [
              0.3333333333333333,
              "#9c179e"
             ],
             [
              0.4444444444444444,
              "#bd3786"
             ],
             [
              0.5555555555555556,
              "#d8576b"
             ],
             [
              0.6666666666666666,
              "#ed7953"
             ],
             [
              0.7777777777777778,
              "#fb9f3a"
             ],
             [
              0.8888888888888888,
              "#fdca26"
             ],
             [
              1,
              "#f0f921"
             ]
            ],
            "type": "histogram2d"
           }
          ],
          "histogram2dcontour": [
           {
            "colorbar": {
             "outlinewidth": 0,
             "ticks": ""
            },
            "colorscale": [
             [
              0,
              "#0d0887"
             ],
             [
              0.1111111111111111,
              "#46039f"
             ],
             [
              0.2222222222222222,
              "#7201a8"
             ],
             [
              0.3333333333333333,
              "#9c179e"
             ],
             [
              0.4444444444444444,
              "#bd3786"
             ],
             [
              0.5555555555555556,
              "#d8576b"
             ],
             [
              0.6666666666666666,
              "#ed7953"
             ],
             [
              0.7777777777777778,
              "#fb9f3a"
             ],
             [
              0.8888888888888888,
              "#fdca26"
             ],
             [
              1,
              "#f0f921"
             ]
            ],
            "type": "histogram2dcontour"
           }
          ],
          "mesh3d": [
           {
            "colorbar": {
             "outlinewidth": 0,
             "ticks": ""
            },
            "type": "mesh3d"
           }
          ],
          "parcoords": [
           {
            "line": {
             "colorbar": {
              "outlinewidth": 0,
              "ticks": ""
             }
            },
            "type": "parcoords"
           }
          ],
          "pie": [
           {
            "automargin": true,
            "type": "pie"
           }
          ],
          "scatter": [
           {
            "marker": {
             "colorbar": {
              "outlinewidth": 0,
              "ticks": ""
             }
            },
            "type": "scatter"
           }
          ],
          "scatter3d": [
           {
            "line": {
             "colorbar": {
              "outlinewidth": 0,
              "ticks": ""
             }
            },
            "marker": {
             "colorbar": {
              "outlinewidth": 0,
              "ticks": ""
             }
            },
            "type": "scatter3d"
           }
          ],
          "scattercarpet": [
           {
            "marker": {
             "colorbar": {
              "outlinewidth": 0,
              "ticks": ""
             }
            },
            "type": "scattercarpet"
           }
          ],
          "scattergeo": [
           {
            "marker": {
             "colorbar": {
              "outlinewidth": 0,
              "ticks": ""
             }
            },
            "type": "scattergeo"
           }
          ],
          "scattergl": [
           {
            "marker": {
             "colorbar": {
              "outlinewidth": 0,
              "ticks": ""
             }
            },
            "type": "scattergl"
           }
          ],
          "scattermapbox": [
           {
            "marker": {
             "colorbar": {
              "outlinewidth": 0,
              "ticks": ""
             }
            },
            "type": "scattermapbox"
           }
          ],
          "scatterpolar": [
           {
            "marker": {
             "colorbar": {
              "outlinewidth": 0,
              "ticks": ""
             }
            },
            "type": "scatterpolar"
           }
          ],
          "scatterpolargl": [
           {
            "marker": {
             "colorbar": {
              "outlinewidth": 0,
              "ticks": ""
             }
            },
            "type": "scatterpolargl"
           }
          ],
          "scatterternary": [
           {
            "marker": {
             "colorbar": {
              "outlinewidth": 0,
              "ticks": ""
             }
            },
            "type": "scatterternary"
           }
          ],
          "surface": [
           {
            "colorbar": {
             "outlinewidth": 0,
             "ticks": ""
            },
            "colorscale": [
             [
              0,
              "#0d0887"
             ],
             [
              0.1111111111111111,
              "#46039f"
             ],
             [
              0.2222222222222222,
              "#7201a8"
             ],
             [
              0.3333333333333333,
              "#9c179e"
             ],
             [
              0.4444444444444444,
              "#bd3786"
             ],
             [
              0.5555555555555556,
              "#d8576b"
             ],
             [
              0.6666666666666666,
              "#ed7953"
             ],
             [
              0.7777777777777778,
              "#fb9f3a"
             ],
             [
              0.8888888888888888,
              "#fdca26"
             ],
             [
              1,
              "#f0f921"
             ]
            ],
            "type": "surface"
           }
          ],
          "table": [
           {
            "cells": {
             "fill": {
              "color": "#EBF0F8"
             },
             "line": {
              "color": "white"
             }
            },
            "header": {
             "fill": {
              "color": "#C8D4E3"
             },
             "line": {
              "color": "white"
             }
            },
            "type": "table"
           }
          ]
         },
         "layout": {
          "annotationdefaults": {
           "arrowcolor": "#2a3f5f",
           "arrowhead": 0,
           "arrowwidth": 1
          },
          "autotypenumbers": "strict",
          "coloraxis": {
           "colorbar": {
            "outlinewidth": 0,
            "ticks": ""
           }
          },
          "colorscale": {
           "diverging": [
            [
             0,
             "#8e0152"
            ],
            [
             0.1,
             "#c51b7d"
            ],
            [
             0.2,
             "#de77ae"
            ],
            [
             0.3,
             "#f1b6da"
            ],
            [
             0.4,
             "#fde0ef"
            ],
            [
             0.5,
             "#f7f7f7"
            ],
            [
             0.6,
             "#e6f5d0"
            ],
            [
             0.7,
             "#b8e186"
            ],
            [
             0.8,
             "#7fbc41"
            ],
            [
             0.9,
             "#4d9221"
            ],
            [
             1,
             "#276419"
            ]
           ],
           "sequential": [
            [
             0,
             "#0d0887"
            ],
            [
             0.1111111111111111,
             "#46039f"
            ],
            [
             0.2222222222222222,
             "#7201a8"
            ],
            [
             0.3333333333333333,
             "#9c179e"
            ],
            [
             0.4444444444444444,
             "#bd3786"
            ],
            [
             0.5555555555555556,
             "#d8576b"
            ],
            [
             0.6666666666666666,
             "#ed7953"
            ],
            [
             0.7777777777777778,
             "#fb9f3a"
            ],
            [
             0.8888888888888888,
             "#fdca26"
            ],
            [
             1,
             "#f0f921"
            ]
           ],
           "sequentialminus": [
            [
             0,
             "#0d0887"
            ],
            [
             0.1111111111111111,
             "#46039f"
            ],
            [
             0.2222222222222222,
             "#7201a8"
            ],
            [
             0.3333333333333333,
             "#9c179e"
            ],
            [
             0.4444444444444444,
             "#bd3786"
            ],
            [
             0.5555555555555556,
             "#d8576b"
            ],
            [
             0.6666666666666666,
             "#ed7953"
            ],
            [
             0.7777777777777778,
             "#fb9f3a"
            ],
            [
             0.8888888888888888,
             "#fdca26"
            ],
            [
             1,
             "#f0f921"
            ]
           ]
          },
          "colorway": [
           "#636efa",
           "#EF553B",
           "#00cc96",
           "#ab63fa",
           "#FFA15A",
           "#19d3f3",
           "#FF6692",
           "#B6E880",
           "#FF97FF",
           "#FECB52"
          ],
          "font": {
           "color": "#2a3f5f"
          },
          "geo": {
           "bgcolor": "white",
           "lakecolor": "white",
           "landcolor": "#E5ECF6",
           "showlakes": true,
           "showland": true,
           "subunitcolor": "white"
          },
          "hoverlabel": {
           "align": "left"
          },
          "hovermode": "closest",
          "mapbox": {
           "style": "light"
          },
          "paper_bgcolor": "white",
          "plot_bgcolor": "#E5ECF6",
          "polar": {
           "angularaxis": {
            "gridcolor": "white",
            "linecolor": "white",
            "ticks": ""
           },
           "bgcolor": "#E5ECF6",
           "radialaxis": {
            "gridcolor": "white",
            "linecolor": "white",
            "ticks": ""
           }
          },
          "scene": {
           "xaxis": {
            "backgroundcolor": "#E5ECF6",
            "gridcolor": "white",
            "gridwidth": 2,
            "linecolor": "white",
            "showbackground": true,
            "ticks": "",
            "zerolinecolor": "white"
           },
           "yaxis": {
            "backgroundcolor": "#E5ECF6",
            "gridcolor": "white",
            "gridwidth": 2,
            "linecolor": "white",
            "showbackground": true,
            "ticks": "",
            "zerolinecolor": "white"
           },
           "zaxis": {
            "backgroundcolor": "#E5ECF6",
            "gridcolor": "white",
            "gridwidth": 2,
            "linecolor": "white",
            "showbackground": true,
            "ticks": "",
            "zerolinecolor": "white"
           }
          },
          "shapedefaults": {
           "line": {
            "color": "#2a3f5f"
           }
          },
          "ternary": {
           "aaxis": {
            "gridcolor": "white",
            "linecolor": "white",
            "ticks": ""
           },
           "baxis": {
            "gridcolor": "white",
            "linecolor": "white",
            "ticks": ""
           },
           "bgcolor": "#E5ECF6",
           "caxis": {
            "gridcolor": "white",
            "linecolor": "white",
            "ticks": ""
           }
          },
          "title": {
           "x": 0.05
          },
          "xaxis": {
           "automargin": true,
           "gridcolor": "white",
           "linecolor": "white",
           "ticks": "",
           "title": {
            "standoff": 15
           },
           "zerolinecolor": "white",
           "zerolinewidth": 2
          },
          "yaxis": {
           "automargin": true,
           "gridcolor": "white",
           "linecolor": "white",
           "ticks": "",
           "title": {
            "standoff": 15
           },
           "zerolinecolor": "white",
           "zerolinewidth": 2
          }
         }
        }
       }
      },
      "image/png": "[encoded data removed]",
      "text/html": [
       "<div>                            <div id=\"60718e85-2299-409f-9d72-a55e4a6f99ce\" class=\"plotly-graph-div\" style=\"height:525px; width:100%;\"></div>            <script type=\"text/javascript\">                require([\"plotly\"], function(Plotly) {                    window.PLOTLYENV=window.PLOTLYENV || {};                                    if (document.getElementById(\"60718e85-2299-409f-9d72-a55e4a6f99ce\")) {                    Plotly.newPlot(                        \"60718e85-2299-409f-9d72-a55e4a6f99ce\",                        [{\"colorscale\": [[0.0, \"rgb(255,255,255)\"], [0.125, \"rgb(240,240,240)\"], [0.25, \"rgb(217,217,217)\"], [0.375, \"rgb(189,189,189)\"], [0.5, \"rgb(150,150,150)\"], [0.625, \"rgb(115,115,115)\"], [0.75, \"rgb(82,82,82)\"], [0.875, \"rgb(37,37,37)\"], [1.0, \"rgb(0,0,0)\"]], \"opacity\": 0.3, \"showscale\": false, \"type\": \"surface\", \"x\": [-15.297299999999998, 15.297299999999996], \"y\": [-15.297299999999998, 15.297299999999996], \"z\": [[0, 0], [0, 0]]}, {\"colorscale\": [[0.0, \"rgb(255,255,255)\"], [0.125, \"rgb(240,240,240)\"], [0.25, \"rgb(217,217,217)\"], [0.375, \"rgb(189,189,189)\"], [0.5, \"rgb(150,150,150)\"], [0.625, \"rgb(115,115,115)\"], [0.75, \"rgb(82,82,82)\"], [0.875, \"rgb(37,37,37)\"], [1.0, \"rgb(0,0,0)\"]], \"opacity\": 0.3, \"showscale\": false, \"type\": \"surface\", \"x\": [-15.297299999999998, 15.297299999999996], \"y\": [-15.297299999999998, 15.297299999999996], \"z\": [[30, 30], [30, 30]]}, {\"legendgroup\": \"Hits\", \"marker\": {\"color\": [59.47998046875, 107.681300951087, 35.13427734375, 49.39835258152175, 64.86254059866565, 28.88802939967104, 34.69068818933829, 122.96280570652175, 128.95751953125, 211.99144684866565, 141.21826171875], \"size\": 3.0}, \"mode\": \"markers\", \"name\": \"Hits\", \"showlegend\": true, \"type\": \"scatter3d\", \"x\": [-9.089700317382812, -12.193499755859374, -8.646299743652344, -8.202899932861328, -8.646299743652344, -8.646299743652344, -9.089700317382812, -8.202899932861328, -9.089700317382812, -8.646299743652344, -9.089700317382812], \"y\": [-9.976499938964844, -8.646299743652344, -10.41989974975586, -9.976499938964844, -9.976499938964844, -9.533100128173828, -9.533100128173828, -9.976499938964844, -9.976499938964844, -9.976499938964844, -9.976499938964844], \"z\": [0.0, 0.030272888038930867, 0.0454093320583963, 0.060545776077861733, 0.0756822200832302, 0.1513644401664604, 0.33300176837185164, 0.484366208538312, 0.4995026525577774, 0.4995026525577774, 0.9233230850182277]}, {\"legendgroup\": \"Hits associated to the track\", \"marker\": {\"color\": [59.47998046875, 35.13427734375, 49.39835258152175, 64.86254059866565, 28.88802939967104, 34.69068818933829, 122.96280570652175, 128.95751953125, 211.99144684866565, 141.21826171875], \"size\": 4.0}, \"mode\": \"markers\", \"name\": \"Hits associated to the track\", \"showlegend\": true, \"type\": \"scatter3d\", \"x\": [-9.089700317382812, -8.646299743652344, -8.202899932861328, -8.646299743652344, -8.646299743652344, -9.089700317382812, -8.202899932861328, -9.089700317382812, -8.646299743652344, -9.089700317382812], \"y\": [-9.976499938964844, -10.41989974975586, -9.976499938964844, -9.976499938964844, -9.533100128173828, -9.533100128173828, -9.976499938964844, -9.976499938964844, -9.976499938964844, -9.976499938964844], \"z\": [0.0, 0.0454093320583963, 0.060545776077861733, 0.0756822200832302, 0.1513644401664604, 0.33300176837185164, 0.484366208538312, 0.4995026525577774, 0.4995026525577774, 0.9233230850182277]}, {\"legendgroup\": \"Tracks\", \"line\": {\"color\": [4699.561872853795, 0, 0, 0, 0, 0, 0], \"width\": 5.0}, \"marker\": {\"size\": 3.0}, \"name\": \"Tracks\", \"showlegend\": true, \"type\": \"scatter3d\", \"x\": [-8.781259164131027, -8.656458850250797, -8.656458850250797, -8.656458850250797, -8.656458850250797, -8.656458850250797, -8.656458850250797, -8.656458850250797], \"y\": [-9.94095268958991, -9.980447044596556, -9.980447044596556, -9.980447044596556, -9.980447044596556, -9.980447044596556, -9.980447044596556, -9.980447044596556], \"z\": [0.5805334249783213, 0.4473571165035368, 0.4473571165035368, 0.4473571165035368, 0.4473571165035368, 0.4473571165035368, 0.4473571165035368, 0.4473571165035368]}, {\"legendgroup\": \"Track_ends\", \"line\": {\"width\": 5.0}, \"marker\": {\"size\": 3.0}, \"name\": \"Tracks_ends\", \"showlegend\": true, \"type\": \"scatter3d\", \"x\": [-9.089700317382812, -8.241271837718037], \"y\": [-9.80099410413086, -10.062383039797147], \"z\": [0.6842098039591125, 0.1323203657705704]}],                        {\"scene\": {\"xaxis\": {\"nticks\": 4, \"range\": [-15.297299999999998, 15.297299999999996]}, \"yaxis\": {\"nticks\": 4, \"range\": [-15.297299999999998, 15.297299999999996]}}, \"template\": {\"data\": {\"bar\": [{\"error_x\": {\"color\": \"#2a3f5f\"}, \"error_y\": {\"color\": \"#2a3f5f\"}, \"marker\": {\"line\": {\"color\": \"#E5ECF6\", \"width\": 0.5}}, \"type\": \"bar\"}], \"barpolar\": [{\"marker\": {\"line\": {\"color\": \"#E5ECF6\", \"width\": 0.5}}, \"type\": \"barpolar\"}], \"carpet\": [{\"aaxis\": {\"endlinecolor\": \"#2a3f5f\", \"gridcolor\": \"white\", \"linecolor\": \"white\", \"minorgridcolor\": \"white\", \"startlinecolor\": \"#2a3f5f\"}, \"baxis\": {\"endlinecolor\": \"#2a3f5f\", \"gridcolor\": \"white\", \"linecolor\": \"white\", \"minorgridcolor\": \"white\", \"startlinecolor\": \"#2a3f5f\"}, \"type\": \"carpet\"}], \"choropleth\": [{\"colorbar\": {\"outlinewidth\": 0, \"ticks\": \"\"}, \"type\": \"choropleth\"}], \"contour\": [{\"colorbar\": {\"outlinewidth\": 0, \"ticks\": \"\"}, \"colorscale\": [[0.0, \"#0d0887\"], [0.1111111111111111, \"#46039f\"], [0.2222222222222222, \"#7201a8\"], [0.3333333333333333, \"#9c179e\"], [0.4444444444444444, \"#bd3786\"], [0.5555555555555556, \"#d8576b\"], [0.6666666666666666, \"#ed7953\"], [0.7777777777777778, \"#fb9f3a\"], [0.8888888888888888, \"#fdca26\"], [1.0, \"#f0f921\"]], \"type\": \"contour\"}], \"contourcarpet\": [{\"colorbar\": {\"outlinewidth\": 0, \"ticks\": \"\"}, \"type\": \"contourcarpet\"}], \"heatmap\": [{\"colorbar\": {\"outlinewidth\": 0, \"ticks\": \"\"}, \"colorscale\": [[0.0, \"#0d0887\"], [0.1111111111111111, \"#46039f\"], [0.2222222222222222, \"#7201a8\"], [0.3333333333333333, \"#9c179e\"], [0.4444444444444444, \"#bd3786\"], [0.5555555555555556, \"#d8576b\"], [0.6666666666666666, \"#ed7953\"], [0.7777777777777778, \"#fb9f3a\"], [0.8888888888888888, \"#fdca26\"], [1.0, \"#f0f921\"]], \"type\": \"heatmap\"}], \"heatmapgl\": [{\"colorbar\": {\"outlinewidth\": 0, \"ticks\": \"\"}, \"colorscale\": [[0.0, \"#0d0887\"], [0.1111111111111111, \"#46039f\"], [0.2222222222222222, \"#7201a8\"], [0.3333333333333333, \"#9c179e\"], [0.4444444444444444, \"#bd3786\"], [0.5555555555555556, \"#d8576b\"], [0.6666666666666666, \"#ed7953\"], [0.7777777777777778, \"#fb9f3a\"], [0.8888888888888888, \"#fdca26\"], [1.0, \"#f0f921\"]], \"type\": \"heatmapgl\"}], \"histogram\": [{\"marker\": {\"colorbar\": {\"outlinewidth\": 0, \"ticks\": \"\"}}, \"type\": \"histogram\"}], \"histogram2d\": [{\"colorbar\": {\"outlinewidth\": 0, \"ticks\": \"\"}, \"colorscale\": [[0.0, \"#0d0887\"], [0.1111111111111111, \"#46039f\"], [0.2222222222222222, \"#7201a8\"], [0.3333333333333333, \"#9c179e\"], [0.4444444444444444, \"#bd3786\"], [0.5555555555555556, \"#d8576b\"], [0.6666666666666666, \"#ed7953\"], [0.7777777777777778, \"#fb9f3a\"], [0.8888888888888888, \"#fdca26\"], [1.0, \"#f0f921\"]], \"type\": \"histogram2d\"}], \"histogram2dcontour\": [{\"colorbar\": {\"outlinewidth\": 0, \"ticks\": \"\"}, \"colorscale\": [[0.0, \"#0d0887\"], [0.1111111111111111, \"#46039f\"], [0.2222222222222222, \"#7201a8\"], [0.3333333333333333, \"#9c179e\"], [0.4444444444444444, \"#bd3786\"], [0.5555555555555556, \"#d8576b\"], [0.6666666666666666, \"#ed7953\"], [0.7777777777777778, \"#fb9f3a\"], [0.8888888888888888, \"#fdca26\"], [1.0, \"#f0f921\"]], \"type\": \"histogram2dcontour\"}], \"mesh3d\": [{\"colorbar\": {\"outlinewidth\": 0, \"ticks\": \"\"}, \"type\": \"mesh3d\"}], \"parcoords\": [{\"line\": {\"colorbar\": {\"outlinewidth\": 0, \"ticks\": \"\"}}, \"type\": \"parcoords\"}], \"pie\": [{\"automargin\": true, \"type\": \"pie\"}], \"scatter\": [{\"marker\": {\"colorbar\": {\"outlinewidth\": 0, \"ticks\": \"\"}}, \"type\": \"scatter\"}], \"scatter3d\": [{\"line\": {\"colorbar\": {\"outlinewidth\": 0, \"ticks\": \"\"}}, \"marker\": {\"colorbar\": {\"outlinewidth\": 0, \"ticks\": \"\"}}, \"type\": \"scatter3d\"}], \"scattercarpet\": [{\"marker\": {\"colorbar\": {\"outlinewidth\": 0, \"ticks\": \"\"}}, \"type\": \"scattercarpet\"}], \"scattergeo\": [{\"marker\": {\"colorbar\": {\"outlinewidth\": 0, \"ticks\": \"\"}}, \"type\": \"scattergeo\"}], \"scattergl\": [{\"marker\": {\"colorbar\": {\"outlinewidth\": 0, \"ticks\": \"\"}}, \"type\": \"scattergl\"}], \"scattermapbox\": [{\"marker\": {\"colorbar\": {\"outlinewidth\": 0, \"ticks\": \"\"}}, \"type\": \"scattermapbox\"}], \"scatterpolar\": [{\"marker\": {\"colorbar\": {\"outlinewidth\": 0, \"ticks\": \"\"}}, \"type\": \"scatterpolar\"}], \"scatterpolargl\": [{\"marker\": {\"colorbar\": {\"outlinewidth\": 0, \"ticks\": \"\"}}, \"type\": \"scatterpolargl\"}], \"scatterternary\": [{\"marker\": {\"colorbar\": {\"outlinewidth\": 0, \"ticks\": \"\"}}, \"type\": \"scatterternary\"}], \"surface\": [{\"colorbar\": {\"outlinewidth\": 0, \"ticks\": \"\"}, \"colorscale\": [[0.0, \"#0d0887\"], [0.1111111111111111, \"#46039f\"], [0.2222222222222222, \"#7201a8\"], [0.3333333333333333, \"#9c179e\"], [0.4444444444444444, \"#bd3786\"], [0.5555555555555556, \"#d8576b\"], [0.6666666666666666, \"#ed7953\"], [0.7777777777777778, \"#fb9f3a\"], [0.8888888888888888, \"#fdca26\"], [1.0, \"#f0f921\"]], \"type\": \"surface\"}], \"table\": [{\"cells\": {\"fill\": {\"color\": \"#EBF0F8\"}, \"line\": {\"color\": \"white\"}}, \"header\": {\"fill\": {\"color\": \"#C8D4E3\"}, \"line\": {\"color\": \"white\"}}, \"type\": \"table\"}]}, \"layout\": {\"annotationdefaults\": {\"arrowcolor\": \"#2a3f5f\", \"arrowhead\": 0, \"arrowwidth\": 1}, \"autotypenumbers\": \"strict\", \"coloraxis\": {\"colorbar\": {\"outlinewidth\": 0, \"ticks\": \"\"}}, \"colorscale\": {\"diverging\": [[0, \"#8e0152\"], [0.1, \"#c51b7d\"], [0.2, \"#de77ae\"], [0.3, \"#f1b6da\"], [0.4, \"#fde0ef\"], [0.5, \"#f7f7f7\"], [0.6, \"#e6f5d0\"], [0.7, \"#b8e186\"], [0.8, \"#7fbc41\"], [0.9, \"#4d9221\"], [1, \"#276419\"]], \"sequential\": [[0.0, \"#0d0887\"], [0.1111111111111111, \"#46039f\"], [0.2222222222222222, \"#7201a8\"], [0.3333333333333333, \"#9c179e\"], [0.4444444444444444, \"#bd3786\"], [0.5555555555555556, \"#d8576b\"], [0.6666666666666666, \"#ed7953\"], [0.7777777777777778, \"#fb9f3a\"], [0.8888888888888888, \"#fdca26\"], [1.0, \"#f0f921\"]], \"sequentialminus\": [[0.0, \"#0d0887\"], [0.1111111111111111, \"#46039f\"], [0.2222222222222222, \"#7201a8\"], [0.3333333333333333, \"#9c179e\"], [0.4444444444444444, \"#bd3786\"], [0.5555555555555556, \"#d8576b\"], [0.6666666666666666, \"#ed7953\"], [0.7777777777777778, \"#fb9f3a\"], [0.8888888888888888, \"#fdca26\"], [1.0, \"#f0f921\"]]}, \"colorway\": [\"#636efa\", \"#EF553B\", \"#00cc96\", \"#ab63fa\", \"#FFA15A\", \"#19d3f3\", \"#FF6692\", \"#B6E880\", \"#FF97FF\", \"#FECB52\"], \"font\": {\"color\": \"#2a3f5f\"}, \"geo\": {\"bgcolor\": \"white\", \"lakecolor\": \"white\", \"landcolor\": \"#E5ECF6\", \"showlakes\": true, \"showland\": true, \"subunitcolor\": \"white\"}, \"hoverlabel\": {\"align\": \"left\"}, \"hovermode\": \"closest\", \"mapbox\": {\"style\": \"light\"}, \"paper_bgcolor\": \"white\", \"plot_bgcolor\": \"#E5ECF6\", \"polar\": {\"angularaxis\": {\"gridcolor\": \"white\", \"linecolor\": \"white\", \"ticks\": \"\"}, \"bgcolor\": \"#E5ECF6\", \"radialaxis\": {\"gridcolor\": \"white\", \"linecolor\": \"white\", \"ticks\": \"\"}}, \"scene\": {\"xaxis\": {\"backgroundcolor\": \"#E5ECF6\", \"gridcolor\": \"white\", \"gridwidth\": 2, \"linecolor\": \"white\", \"showbackground\": true, \"ticks\": \"\", \"zerolinecolor\": \"white\"}, \"yaxis\": {\"backgroundcolor\": \"#E5ECF6\", \"gridcolor\": \"white\", \"gridwidth\": 2, \"linecolor\": \"white\", \"showbackground\": true, \"ticks\": \"\", \"zerolinecolor\": \"white\"}, \"zaxis\": {\"backgroundcolor\": \"#E5ECF6\", \"gridcolor\": \"white\", \"gridwidth\": 2, \"linecolor\": \"white\", \"showbackground\": true, \"ticks\": \"\", \"zerolinecolor\": \"white\"}}, \"shapedefaults\": {\"line\": {\"color\": \"#2a3f5f\"}}, \"ternary\": {\"aaxis\": {\"gridcolor\": \"white\", \"linecolor\": \"white\", \"ticks\": \"\"}, \"baxis\": {\"gridcolor\": \"white\", \"linecolor\": \"white\", \"ticks\": \"\"}, \"bgcolor\": \"#E5ECF6\", \"caxis\": {\"gridcolor\": \"white\", \"linecolor\": \"white\", \"ticks\": \"\"}}, \"title\": {\"x\": 0.05}, \"xaxis\": {\"automargin\": true, \"gridcolor\": \"white\", \"linecolor\": \"white\", \"ticks\": \"\", \"title\": {\"standoff\": 15}, \"zerolinecolor\": \"white\", \"zerolinewidth\": 2}, \"yaxis\": {\"automargin\": true, \"gridcolor\": \"white\", \"linecolor\": \"white\", \"ticks\": \"\", \"title\": {\"standoff\": 15}, \"zerolinecolor\": \"white\", \"zerolinewidth\": 2}}}},                        {\"responsive\": true}                    ).then(function(){\n",
       "                            \n",
       "var gd = document.getElementById('60718e85-2299-409f-9d72-a55e4a6f99ce');\n",
       "var x = new MutationObserver(function (mutations, observer) {{\n",
       "        var display = window.getComputedStyle(gd).display;\n",
       "        if (!display || display === 'none') {{\n",
       "            console.log([gd, 'removed!']);\n",
       "            Plotly.purge(gd);\n",
       "            observer.disconnect();\n",
       "        }}\n",
       "}});\n",
       "\n",
       "// Listen for the removal of the full notebook cells\n",
       "var notebookContainer = gd.closest('#notebook-container');\n",
       "if (notebookContainer) {{\n",
       "    x.observe(notebookContainer, {childList: true});\n",
       "}}\n",
       "\n",
       "// Listen for the clearing of the current output cell\n",
       "var outputEl = gd.closest('.output');\n",
       "if (outputEl) {{\n",
       "    x.observe(outputEl, {childList: true});\n",
       "}}\n",
       "\n",
       "                        })                };                });            </script>        </div>"
      ]
     },
     "metadata": {},
     "output_type": "display_data"
    }
   ],
   "source": [
    "i_ev = 84\n",
    "\n",
    "fig = go.Figure()\n",
    "\n",
    "pos = np.array(list(geom.values())) / 10.\n",
    "\n",
    "xmin = pos[:, 0].min()\n",
    "xmax = pos[:, 0].max()\n",
    "        \n",
    "ymin = pos[:, 1].min()\n",
    "ymax = pos[:, 1].max()\n",
    "       \n",
    "# -----------------------------------------------------------------------------\n",
    "# Draw anode planes\n",
    "# -----------------------------------------------------------------------------\n",
    "fig.add_traces(draw_anode_cathode_planes(\n",
    "    geom,\n",
    "    showscale=False,\n",
    "    opacity=0.3,\n",
    "    colorscale='Greys',\n",
    "))\n",
    "\n",
    "# -----------------------------------------------------------------------------\n",
    "# Plot hits in event\n",
    "# -----------------------------------------------------------------------------\n",
    "\n",
    "hits_ev = dereference(i_ev, ref=f['charge/events/ref/charge/hits/ref'], region=f['charge/events/ref/charge/hits/ref_region'], data=f['charge/hits/data'])\n",
    "t0 = min(hits_ev['ts'][0])\n",
    "traces_hits_ev = []\n",
    "traces_hits_ev.append(plot_hits_reco3d(\n",
    "    hits_ev, \n",
    "    vdrift = vdrift, \n",
    "    t0 = t0,\n",
    "    showlegend=True,\n",
    "    legendgroup='Hits',\n",
    "    mode='markers',\n",
    "    marker_size=3.))\n",
    "traces_hits_ev[0].update(showlegend=True, name='Hits')\n",
    "fig.add_traces(traces_hits_ev)\n",
    "\n",
    "# -----------------------------------------------------------------------------\n",
    "# Plot track in event\n",
    "# -----------------------------------------------------------------------------\n",
    "\n",
    "tracks_ev = dereference(i_ev, ref=f['charge/events/ref/combined/tracklets/ref'], region=f['charge/events/ref/combined/tracklets/ref_region'], data=f['combined/tracklets/data'])\n",
    "trk_pool = tracks_ev['id'][0]\n",
    "\n",
    "traces_tracks_ev = []\n",
    "traces_tracks_ends_ev = []\n",
    "traces_hits_trk = []\n",
    "\n",
    "for trk_id in trk_pool:\n",
    "    print(trk_id)\n",
    "    if np.ma.is_masked(trk_id):\n",
    "        print(\"no valid tracks\")\n",
    "        continue\n",
    "        \n",
    "    ###############\n",
    "    # Plot track segments\n",
    "    ###############\n",
    "    mask = tracks_ev['id'] == trk_id\n",
    "    this_trk = tracks_ev[mask]\n",
    "\n",
    "    traces_tracks_ev.append(plot_track_reco3d(\n",
    "        this_trk, \n",
    "        showlegend=True,\n",
    "        legendgroup='Tracks',\n",
    "        marker_size=3.,\n",
    "        line_width = 5.\n",
    "    ))\n",
    "    \n",
    "    ###############\n",
    "    # Plot track ends\n",
    "    ###############\n",
    "    track_start = this_trk['start']\n",
    "    track_end = this_trk['end']\n",
    "\n",
    "    traces_tracks_ends_ev.append(plot_track_ends(\n",
    "        track_start,\n",
    "        track_end,\n",
    "        showlegend=True,\n",
    "        legendgroup='Track_ends',\n",
    "        marker_size=3.,\n",
    "        line_width = 5.\n",
    "    ))\n",
    "    \n",
    "    ###############\n",
    "    # Plot hits in track\n",
    "    ###############\n",
    "    hits_trk = dereference(trk_id, ref=f['combined/tracklets/ref/charge/hits/ref'], region=f['combined/tracklets/ref/charge/hits/ref_region'], data=f['charge/hits/data'])\n",
    "\n",
    "    traces_hits_trk.append(plot_hits_reco3d(\n",
    "        hits_trk, \n",
    "        vdrift = vdrift, \n",
    "        t0 = t0,\n",
    "        showlegend=True,\n",
    "        legendgroup='Hits associated to the track',\n",
    "        mode='markers',\n",
    "        marker_size=4.))\n",
    "\n",
    "if len(traces_hits_trk) > 0:\n",
    "    traces_hits_trk[0].update(showlegend=True, name='Hits associated to the track')\n",
    "    fig.add_traces(traces_hits_trk)\n",
    "\n",
    "if len(traces_tracks_ev) > 0:\n",
    "    traces_tracks_ev[0].update(showlegend=True, name='Tracks')\n",
    "    fig.add_traces(traces_tracks_ev)\n",
    "\n",
    "if len(traces_tracks_ends_ev) > 0:\n",
    "    traces_tracks_ends_ev[0].update(showlegend=True, name='Tracks_ends')\n",
    "    fig.add_traces(traces_tracks_ends_ev)\n",
    "\n",
    "\n",
    "fig.update_layout(\n",
    "    scene = dict(\n",
    "        xaxis = dict(nticks=4, range=[xmin,xmax],),\n",
    "        yaxis = dict(nticks=4, range=[ymin,ymax],)\n",
    "    ))\n",
    "\n",
    "fig.show()\n",
    "                   "
   ]
  }
 ],
 "metadata": {
  "kernelspec": {
   "display_name": "Python 3 (ipykernel)",
   "language": "python",
   "name": "python3"
  },
  "language_info": {
   "codemirror_mode": {
    "name": "ipython",
    "version": 3
   },
   "file_extension": ".py",
   "mimetype": "text/x-python",
   "name": "python",
   "nbconvert_exporter": "python",
   "pygments_lexer": "ipython3",
   "version": "3.8.10"
  }
 },
 "nbformat": 4,
 "nbformat_minor": 5
}
